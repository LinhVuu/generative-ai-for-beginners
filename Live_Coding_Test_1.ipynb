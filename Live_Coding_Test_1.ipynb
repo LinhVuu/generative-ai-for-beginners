{
  "nbformat": 4,
  "nbformat_minor": 0,
  "metadata": {
    "colab": {
      "provenance": [],
      "toc_visible": true,
      "include_colab_link": true
    },
    "kernelspec": {
      "name": "python3",
      "display_name": "Python 3"
    },
    "language_info": {
      "name": "python"
    }
  },
  "cells": [
    {
      "cell_type": "markdown",
      "metadata": {
        "id": "view-in-github",
        "colab_type": "text"
      },
      "source": [
        "<a href=\"https://colab.research.google.com/github/LinhVuu/generative-ai-for-beginners/blob/main/Live_Coding_Test_1.ipynb\" target=\"_parent\"><img src=\"https://colab.research.google.com/assets/colab-badge.svg\" alt=\"Open In Colab\"/></a>"
      ]
    },
    {
      "cell_type": "code",
      "source": [
        "import re"
      ],
      "metadata": {
        "id": "U6X0TfYfCEtL"
      },
      "execution_count": null,
      "outputs": []
    },
    {
      "cell_type": "markdown",
      "source": [
        "# **SEQUENCES & LOOPS**"
      ],
      "metadata": {
        "id": "szNI0kOb3mCf"
      }
    },
    {
      "cell_type": "markdown",
      "source": [
        "### (4 pts) Combine 2 lists/tuples without using `zip`"
      ],
      "metadata": {
        "id": "06dY-tnZcLCX"
      }
    },
    {
      "cell_type": "markdown",
      "source": [
        "The 2 lists/tuples may or may not have the same length. In that case, only combine up to the length of the shorter sequence.\n",
        "\n",
        "Also note that the arguments order matters.\n",
        "\n",
        "Returns a list of tuples, each tuple is a pair of values from the 2 sequences.\n",
        "\n",
        "*Example:*\n",
        "```python\n",
        ">>> list_1 = [0,1,2,3,4]\n",
        ">>> list_2 = [5,6,7,8,9]\n",
        ">>> print(combine_seq(list_1, list_2))\n",
        "[(0, 5), (1, 6), (2, 7), (3, 8), (4, 9)]\n",
        ">>> tup_1 = ('a','b','c','d','e','f','g','h')\n",
        ">>> tup_2 = ('z','y','x','w','v')\n",
        ">>> print(combine_seq(tup_1, tup_2))\n",
        "[('a', 'z'), ('b', 'y'), ('c', 'x'), ('d', 'w'), ('e', 'v')]\n",
        "```"
      ],
      "metadata": {
        "id": "EJexTN1bcQXP"
      }
    },
    {
      "cell_type": "code",
      "source": [
        "# YOUR CODE HERE\n"
      ],
      "metadata": {
        "id": "hZWtjKcij8ez"
      },
      "execution_count": null,
      "outputs": []
    },
    {
      "cell_type": "markdown",
      "source": [
        "# **STRING**"
      ],
      "metadata": {
        "id": "kKScmzg-8QEU"
      }
    },
    {
      "cell_type": "markdown",
      "metadata": {
        "id": "-oxM5sU6U2da"
      },
      "source": [
        "### (2 pts) Capitalize the first character of a string"
      ]
    },
    {
      "cell_type": "markdown",
      "source": [
        "```python\n",
        "'j@me$_B0ND'   --> 'J@me$_B0ND'\n",
        "'chinh NGUYEN' --> 'Chinh NGUYEN'\n",
        "```"
      ],
      "metadata": {
        "id": "gO5qQ8YIbKUC"
      }
    },
    {
      "cell_type": "code",
      "source": [
        "# YOUR CODE HERE\n"
      ],
      "metadata": {
        "id": "ikQu85jkVGuu"
      },
      "execution_count": null,
      "outputs": []
    },
    {
      "cell_type": "markdown",
      "source": [
        "### (2 pts) Extract username and domain of an email"
      ],
      "metadata": {
        "id": "DcQSayeIqEVa"
      }
    },
    {
      "cell_type": "markdown",
      "source": [
        "```python\n",
        "'chinh.nguyen@coderschool.vn' --> 'chinh.nguyen'\n",
        "'chinh.nguyen@coderschool.vn' --> 'coderchool.vn'\n",
        "```"
      ],
      "metadata": {
        "id": "t5QLb0gra8GN"
      }
    },
    {
      "cell_type": "code",
      "source": [
        "# YOUR CODE HERE\n"
      ],
      "metadata": {
        "id": "Nh0kcgKgVHos"
      },
      "execution_count": null,
      "outputs": []
    },
    {
      "cell_type": "markdown",
      "source": [
        "# **DICTIONARY**"
      ],
      "metadata": {
        "id": "c-CWXtTmhTwG"
      }
    },
    {
      "cell_type": "markdown",
      "source": [
        "### (6 pts) Upper case all the keys of a dictionary"
      ],
      "metadata": {
        "id": "2rcRppf_hXBn"
      }
    },
    {
      "cell_type": "markdown",
      "source": [
        "Function should return a new dictionary with old dictionary keys and values, but with the keys upper case instead.\n",
        "\n",
        "Assume the keys are all strings with letters only.\n",
        "\n",
        "*Example:*\n",
        "```python\n",
        ">>> old_dict = {'a': 1, 'b': 2, 'c': 3, 'd': 4}\n",
        ">>> print(cap_keys(old_dict))\n",
        "{'A': 1, 'B': 2, 'C': 3, 'D': 4}\n",
        ">>> grades = {'Chinh': 9.5, 'Minh': 10, 'Nhan': 8, 'Tien': 7, 'Quan': 8.5}\n",
        ">>> print(cap_keys(grades))\n",
        "{'CHINH': 9.5, 'MINH': 10, 'NHAN': 8, 'TIEN': 7, 'QUAN': 8.5}\n",
        "```"
      ],
      "metadata": {
        "id": "tnuwNHZIhnrW"
      }
    },
    {
      "cell_type": "code",
      "source": [
        "# YOUR CODE HERE\n"
      ],
      "metadata": {
        "id": "IBlySyk5VPFD"
      },
      "execution_count": null,
      "outputs": []
    },
    {
      "cell_type": "markdown",
      "source": [
        "# **REGEX**"
      ],
      "metadata": {
        "id": "9sh9rYNK5Q19"
      }
    },
    {
      "cell_type": "markdown",
      "metadata": {
        "id": "E8r7F67zDNZT"
      },
      "source": [
        "### (6 pts) Check if a string contains number. If not, append '123' to it, otherwise do nothing."
      ]
    },
    {
      "cell_type": "markdown",
      "source": [
        "```python\n",
        "'j@me$_BOND'   --> 'j@me$_BOND123'\n",
        "'Ch1nh nguy3n' --> 'Ch1nh nguy3n'\n",
        "```"
      ],
      "metadata": {
        "id": "EiXv9JFwaueB"
      }
    },
    {
      "cell_type": "code",
      "source": [
        "# YOUR CODE HERE\n",
        "\n"
      ],
      "metadata": {
        "id": "6URrkZKkVTVw"
      },
      "execution_count": null,
      "outputs": []
    }
  ]
}